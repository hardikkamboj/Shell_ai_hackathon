{
 "cells": [
  {
   "cell_type": "code",
   "execution_count": 1,
   "metadata": {},
   "outputs": [],
   "source": [
    "import numpy as np \n",
    "import pandas as pd\n",
    "\n",
    "import matplotlib.pyplot as plt \n",
    "import seaborn as sns"
   ]
  },
  {
   "cell_type": "code",
   "execution_count": 2,
   "metadata": {},
   "outputs": [],
   "source": [
    "def plot_turbines(points,ax = None):\n",
    "    X = points[:,0]\n",
    "    Y = points[:,1]\n",
    "    if not ax:\n",
    "        plt.figure(figsize = (10,8))\n",
    "        plt.plot([50,3950,3950,50,50],[50,50,3950,3950,50],linestyle = '--',c = 'r')\n",
    "        plt.scatter(X,Y,s = 100,marker = '*')\n",
    "    else: \n",
    "        ax.plot([50,3950,3950,50,50],[50,50,3950,3950,50],linestyle = '--',c = 'r')\n",
    "        ax.scatter(X,Y,s = 100,marker = '*')\n",
    "    \n",
    "def plot_turbines2(list_points,list_aep = None):\n",
    "    l = len(list_points)\n",
    "    fig,ax = plt.subplots(1,l,figsize = (20,8))\n",
    "    for i,points in enumerate(list_points):\n",
    "        plot_turbines(points,ax[i])\n",
    "        if list_aep:\n",
    "            ax[i].set_title('AEP is '+str(list_aep[i]))\n",
    "#         print(points)"
   ]
  },
  {
   "cell_type": "code",
   "execution_count": 3,
   "metadata": {},
   "outputs": [],
   "source": [
    "# upload the function from python file \n",
    "from Farm_Evaluator_Vec import find_aep\n",
    "\n",
    "POWER_CURVE = 'power_curve.csv'\n",
    "WIND_DATA = 'wind_data/wind_360_uniform.csv'\n",
    "WIND_DATA_2007 = 'wind_data/wind_data_2007.csv'\n",
    "DATA1 = 'turbine_data/wake1.csv'\n",
    "DATA2 = 'turbine_data/manual2.csv'\n",
    "\n",
    "def find_aep_points(points):\n",
    "    return find_aep(points,POWER_CURVE,WIND_DATA_2007)\n",
    "\n",
    "def find_list_aep(list_points):\n",
    "    list_aep = []\n",
    "    for points in list_points:\n",
    "        list_aep.append(find_aep_points(points))\n",
    "    return list_aep"
   ]
  },
  {
   "cell_type": "code",
   "execution_count": 5,
   "metadata": {},
   "outputs": [
    {
     "ename": "NameError",
     "evalue": "name 'array1' is not defined",
     "output_type": "error",
     "traceback": [
      "\u001b[0;31m---------------------------------------------------------------------------\u001b[0m",
      "\u001b[0;31mNameError\u001b[0m                                 Traceback (most recent call last)",
      "\u001b[0;32m<ipython-input-5-b94d6077ddda>\u001b[0m in \u001b[0;36m<module>\u001b[0;34m\u001b[0m\n\u001b[1;32m      1\u001b[0m \u001b[0;32mfrom\u001b[0m \u001b[0mFarm_Evaluator\u001b[0m \u001b[0;32mimport\u001b[0m \u001b[0mtotalAEP\u001b[0m\u001b[0;34m\u001b[0m\u001b[0;34m\u001b[0m\u001b[0m\n\u001b[1;32m      2\u001b[0m \u001b[0;34m\u001b[0m\u001b[0m\n\u001b[0;32m----> 3\u001b[0;31m \u001b[0maep\u001b[0m\u001b[0;34m,\u001b[0m\u001b[0mfarm_arr\u001b[0m\u001b[0;34m,\u001b[0m\u001b[0mspeed_def\u001b[0m \u001b[0;34m=\u001b[0m \u001b[0mtotalAEP\u001b[0m\u001b[0;34m(\u001b[0m\u001b[0;36m100\u001b[0m\u001b[0;34m,\u001b[0m\u001b[0marray1\u001b[0m\u001b[0;34m,\u001b[0m\u001b[0mpower\u001b[0m\u001b[0;34m,\u001b[0m\u001b[0mprob_array\u001b[0m\u001b[0;34m,\u001b[0m\u001b[0mdebug\u001b[0m\u001b[0;34m=\u001b[0m\u001b[0;32mTrue\u001b[0m\u001b[0;34m)\u001b[0m\u001b[0;34m\u001b[0m\u001b[0;34m\u001b[0m\u001b[0m\n\u001b[0m\u001b[1;32m      4\u001b[0m \u001b[0maep_2007\u001b[0m\u001b[0;34m,\u001b[0m\u001b[0mfarm_arr_2007\u001b[0m\u001b[0;34m,\u001b[0m\u001b[0mspeed_def_2007\u001b[0m \u001b[0;34m=\u001b[0m \u001b[0mtotalAEP\u001b[0m\u001b[0;34m(\u001b[0m\u001b[0;36m100\u001b[0m\u001b[0;34m,\u001b[0m\u001b[0marray1\u001b[0m\u001b[0;34m,\u001b[0m\u001b[0mpower\u001b[0m\u001b[0;34m,\u001b[0m\u001b[0mprob_array_2007\u001b[0m\u001b[0;34m,\u001b[0m\u001b[0mdebug\u001b[0m\u001b[0;34m=\u001b[0m\u001b[0;32mTrue\u001b[0m\u001b[0;34m)\u001b[0m\u001b[0;34m\u001b[0m\u001b[0;34m\u001b[0m\u001b[0m\n",
      "\u001b[0;31mNameError\u001b[0m: name 'array1' is not defined"
     ]
    }
   ],
   "source": [
    "from Farm_Evaluator import totalAEP\n",
    "\n",
    "aep,farm_arr,speed_def = totalAEP(100,array1,power,prob_array,debug=True)\n",
    "aep_2007,farm_arr_2007,speed_def_2007 = totalAEP(100,array1,power,prob_array_2007,debug=True)"
   ]
  },
  {
   "cell_type": "code",
   "execution_count": null,
   "metadata": {},
   "outputs": [],
   "source": []
  }
 ],
 "metadata": {
  "kernelspec": {
   "display_name": "Python 3",
   "language": "python",
   "name": "python3"
  },
  "language_info": {
   "codemirror_mode": {
    "name": "ipython",
    "version": 3
   },
   "file_extension": ".py",
   "mimetype": "text/x-python",
   "name": "python",
   "nbconvert_exporter": "python",
   "pygments_lexer": "ipython3",
   "version": "3.8.3"
  }
 },
 "nbformat": 4,
 "nbformat_minor": 4
}
